{
 "cells": [
  {
   "cell_type": "markdown",
   "metadata": {},
   "source": [
    "## Multithreading\n",
    "In the preceding recipes, there was a single thread running; this is the default way to use Python, due to the GIL (Global Interpreter Lock). Then, the user has the possibility to interact with the Csound instance during the performance loop. This is illustrated in the following diagram:\n",
    "\n",
    "![Single Thread](img/03-threading-a.png)\n",
    "\n",
    "To use Csound in a more flexible way, one can use multithreading. Because of the GIL limitations, it is better to yield the multithread machinery through C libraries. When a C function is called from Python using ctypes, the GIL is released during the function call.\n",
    "\n",
    "Csound has an helper class called CsoundPerformanceThread. When there is a running Csound instance, one can start a new thread by creating a new object of type CsoundPerformanceThread with a reference to the Csound instance as argument. Then, the main Python thread will run allowing the user to interract with it, while the performance thread will run concurrently in the C world, outside of the GIL. The user can send messages to the performance thread, each message being sent with a call to a C function through ctypes, releasing the GIL during the function call. Those messages can be: _play(), pause(), togglePause(), stop(), record(), stopRecord(), scoreEvent(), inputMessage(), setScoreOffsetSeconds(), join(),_ or _flushMessageQueue()_.\n",
    "\n",
    "When a very long score is used, it is thus easy to implement a REPL (read-eval-print loop) system around Csound. This is illustrated in the following diagram:\n",
    "\n",
    "![Multithreading with CsoundPerformanceThread](img/03-threading-b.png)\n",
    "\n",
    "So let's start a Csound instance from Python, with a four hours long score:"
   ]
  },
  {
   "cell_type": "code",
   "execution_count": 1,
   "metadata": {
    "collapsed": false
   },
   "outputs": [
    {
     "data": {
      "text/plain": [
       "0"
      ]
     },
     "execution_count": 1,
     "metadata": {},
     "output_type": "execute_result"
    }
   ],
   "source": [
    "import ctcsound\n",
    "cs = ctcsound.Csound()\n",
    "\n",
    "csd = '''\n",
    "<CsoundSynthesizer>\n",
    "\n",
    "<CsOptions>\n",
    "  -d -o dac -m0\n",
    "</CsOptions>\n",
    "\n",
    "<CsInstruments>\n",
    "sr     = 48000\n",
    "ksmps  = 100\n",
    "nchnls = 2\n",
    "0dbfs  = 1\n",
    "\n",
    "          instr 1\n",
    "idur      =         p3\n",
    "iamp      =         p4\n",
    "icps      =         cpspch(p5)\n",
    "irise     =         p6\n",
    "idec      =         p7\n",
    "ipan      =         p8\n",
    "\n",
    "kenv      linen     iamp, irise, idur, idec\n",
    "kenv      =         kenv*kenv\n",
    "asig      poscil    kenv, icps\n",
    "a1, a2    pan2      asig, ipan\n",
    "          outs      a1, a2\n",
    "          endin\n",
    "</CsInstruments>\n",
    "\n",
    "<CsScore>\n",
    "f 0 14400    ; a 4 hours session should be enough\n",
    "</CsScore>\n",
    "</CsoundSynthesizer>\n",
    "'''\n",
    "cs.compileCsdText(csd)\n",
    "cs.start()"
   ]
  },
  {
   "cell_type": "markdown",
   "metadata": {},
   "source": [
    "Then, let's start a new thread, passing the opaque pointer of the Csound instance as argument:"
   ]
  },
  {
   "cell_type": "code",
   "execution_count": 2,
   "metadata": {
    "collapsed": false
   },
   "outputs": [],
   "source": [
    "pt = ctcsound.CsoundPerformanceThread(cs.csound())\n",
    "pt.play()"
   ]
  },
  {
   "cell_type": "markdown",
   "metadata": {},
   "source": [
    "Now, we can send messages to the performance thread:"
   ]
  },
  {
   "cell_type": "code",
   "execution_count": 3,
   "metadata": {
    "collapsed": false
   },
   "outputs": [],
   "source": [
    "pt.scoreEvent(False, 'i', (1, 0, 1, 0.5, 8.06, 0.05, 0.3, 0.5))\n",
    "pt.scoreEvent(False, 'i', (1, 0.5, 1, 0.5, 9.06, 0.05, 0.3, 0.5))"
   ]
  },
  {
   "cell_type": "markdown",
   "metadata": {
    "collapsed": false
   },
   "source": [
    "When we're done, we stop the performance thread:"
   ]
  },
  {
   "cell_type": "code",
   "execution_count": 4,
   "metadata": {
    "collapsed": false
   },
   "outputs": [
    {
     "data": {
      "text/plain": [
       "1"
      ]
     },
     "execution_count": 4,
     "metadata": {},
     "output_type": "execute_result"
    }
   ],
   "source": [
    "pt.stop()\n",
    "pt.join()"
   ]
  }
 ],
 "metadata": {
  "kernelspec": {
   "display_name": "Python 3",
   "language": "python",
   "name": "python3"
  },
  "language_info": {
   "codemirror_mode": {
    "name": "ipython",
    "version": 3
   },
   "file_extension": ".py",
   "mimetype": "text/x-python",
   "name": "python",
   "nbconvert_exporter": "python",
   "pygments_lexer": "ipython3",
   "version": "3.5.1"
  }
 },
 "nbformat": 4,
 "nbformat_minor": 0
}
