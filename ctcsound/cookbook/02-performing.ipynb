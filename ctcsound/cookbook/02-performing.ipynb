{
 "cells": [
  {
   "cell_type": "markdown",
   "metadata": {},
   "source": [
    "## Performing orchestras, scores, and input files (.csd files)\n",
    "There are different ways to perform input files. Let's start a Csound instance:"
   ]
  },
  {
   "cell_type": "code",
   "execution_count": 1,
   "metadata": {
    "collapsed": true
   },
   "outputs": [],
   "source": [
    "import ctcsound\n",
    "cs = ctcsound.Csound()"
   ]
  },
  {
   "cell_type": "markdown",
   "metadata": {},
   "source": [
    "Doing it the classical way, we compile an orchestra and a score file, passing also some flags. Note that the first argument, indicating the program name, is mandatory. This is due to the C origin of Csound. You can give as first argument to ```cs.compile_``` any string such as \"dummy\" or \"myProgram\", etc. The usage, calling C programs, is to pass the program name.\n",
    "\n",
    "If the compilation is successful, the Csound instance is ready to run a performance. Then orchestra and score are performed and the Csound instance is reset, to be ready for another performance:"
   ]
  },
  {
   "cell_type": "code",
   "execution_count": 2,
   "metadata": {
    "collapsed": true
   },
   "outputs": [],
   "source": [
    "ret = cs.compile_(\"csound\", \"-o\", \"dac\", \"examples/02-a.orc\", \"examples/02-a.sco\")\n",
    "if ret == ctcsound.CSOUND_SUCCESS:\n",
    "    cs.perform()\n",
    "    cs.reset()"
   ]
  },
  {
   "cell_type": "markdown",
   "metadata": {},
   "source": [
    "We can do the same with a single input file (.csd file):"
   ]
  },
  {
   "cell_type": "code",
   "execution_count": 3,
   "metadata": {
    "collapsed": true
   },
   "outputs": [],
   "source": [
    "ret = cs.compile_(\"csound\", \"examples/02-a.csd\")\n",
    "if ret == ctcsound.CSOUND_SUCCESS:\n",
    "    cs.perform()\n",
    "    cs.reset()"
   ]
  },
  {
   "cell_type": "markdown",
   "metadata": {},
   "source": [
    "Csound offers also the possibility to compile directly a csd file. As this can be done during a performance to replace or add new instruments and events (more on this later), ```cs.start()``` has to be called here, because Csound is not actually running a performance (due to the preceding ```cs.reset()```:"
   ]
  },
  {
   "cell_type": "code",
   "execution_count": 4,
   "metadata": {
    "collapsed": false
   },
   "outputs": [],
   "source": [
    "ret = cs.compileCsd(\"examples/02-a.csd\")\n",
    "if ret == ctcsound.CSOUND_SUCCESS:\n",
    "    cs.start()\n",
    "    cs.perform()\n",
    "    cs.reset()"
   ]
  },
  {
   "cell_type": "markdown",
   "metadata": {},
   "source": [
    "Finally, instead of compiling a csd from an input file, we can do it from a string:"
   ]
  },
  {
   "cell_type": "code",
   "execution_count": 5,
   "metadata": {
    "collapsed": true
   },
   "outputs": [],
   "source": [
    "csd = '''\n",
    "<CsoundSynthesizer>\n",
    "\n",
    "<CsOptions>\n",
    "  -d -o dac -m0\n",
    "</CsOptions>\n",
    "\n",
    "<CsInstruments>\n",
    "sr     = 48000\n",
    "ksmps  = 100\n",
    "nchnls = 2\n",
    "0dbfs  = 1\n",
    "\n",
    "          instr 1\n",
    "idur      =         p3\n",
    "iamp      =         p4\n",
    "icps      =         cpspch(p5)\n",
    "irise     =         p6\n",
    "idec      =         p7\n",
    "ipan      =         p8\n",
    "\n",
    "kenv      linen     iamp, irise, idur, idec\n",
    "kenv      =         kenv*kenv\n",
    "asig      poscil    kenv, icps\n",
    "a1, a2    pan2      asig, ipan\n",
    "          outs      a1, a2\n",
    "          endin\n",
    "</CsInstruments>\n",
    "\n",
    "<CsScore>\n",
    "i 1 0 1 0.5 8.06 0.05 0.3 0.5\n",
    "e 1.5\n",
    "</CsScore>\n",
    "</CsoundSynthesizer>\n",
    "'''\n",
    "ret = cs.compileCsdText(csd)\n",
    "if ret == ctcsound.CSOUND_SUCCESS:\n",
    "    cs.start()\n",
    "    cs.perform()\n",
    "    cs.reset()"
   ]
  },
  {
   "cell_type": "markdown",
   "metadata": {},
   "source": [
    "Instead of performing an entire score with a single ```cs.perform()``` command, it is possible to run a loop, performing a buffer (ksmps samples long with ```cs.performKsmps()```, or -b frames long with ```cs.performBuffer()```) during each pass. Note that ```cs.performKsmps()``` and ```cs.performBuffer()``` return False while the score is not finished. Here, a dot is displayed for each pass in the loop:"
   ]
  },
  {
   "cell_type": "code",
   "execution_count": 6,
   "metadata": {
    "collapsed": false
   },
   "outputs": [
    {
     "name": "stdout",
     "output_type": "stream",
     "text": [
      "................................................................................................................................................................................................................................................................................................................................................................................................................................................................................................................................................................................................................................................................................................................................................\n"
     ]
    }
   ],
   "source": [
    "ret = cs.compile_(\"csound\", \"examples/02-a.csd\")\n",
    "if ret == ctcsound.CSOUND_SUCCESS:\n",
    "    while not cs.performKsmps():\n",
    "        print('.', end='')\n",
    "    print()\n",
    "    cs.reset()"
   ]
  },
  {
   "cell_type": "code",
   "execution_count": 7,
   "metadata": {
    "collapsed": false
   },
   "outputs": [
    {
     "name": "stdout",
     "output_type": "stream",
     "text": [
      "......................................................................\n"
     ]
    }
   ],
   "source": [
    "ret = cs.compile_(\"csound\", \"examples/02-a.csd\")\n",
    "if ret == ctcsound.CSOUND_SUCCESS:\n",
    "    while not cs.performBuffer():\n",
    "        print('.', end='')\n",
    "    print()\n",
    "    cs.reset()"
   ]
  }
 ],
 "metadata": {
  "kernelspec": {
   "display_name": "Python 3",
   "language": "python",
   "name": "python3"
  },
  "language_info": {
   "codemirror_mode": {
    "name": "ipython",
    "version": 3
   },
   "file_extension": ".py",
   "mimetype": "text/x-python",
   "name": "python",
   "nbconvert_exporter": "python",
   "pygments_lexer": "ipython3",
   "version": "3.5.1"
  }
 },
 "nbformat": 4,
 "nbformat_minor": 0
}
