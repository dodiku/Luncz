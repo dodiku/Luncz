{
 "cells": [
  {
   "cell_type": "markdown",
   "metadata": {},
   "source": [
    "## Magic Commands and Syntax highlighting for Csound\n",
    "Once the csoundmagic extension is installed (see the 05-installingCsoundmagics notebook), one can use the Csound magics and functions by loading the extension:"
   ]
  },
  {
   "cell_type": "code",
   "execution_count": 1,
   "metadata": {
    "collapsed": false
   },
   "outputs": [
    {
     "data": {
      "application/javascript": [
       "IPython.CodeCell.config_defaults.highlight_modes['magic_csound'] = {'reg':[/^%%csound/, /^%%csd/, /^%%orc/, /^%%sco/]};"
      ]
     },
     "metadata": {},
     "output_type": "display_data"
    }
   ],
   "source": [
    "%load_ext csoundmagics"
   ]
  },
  {
   "cell_type": "markdown",
   "metadata": {},
   "source": [
    "The first magic allows the user to enter a csd in the user namespace, giving it a name:"
   ]
  },
  {
   "cell_type": "code",
   "execution_count": 2,
   "metadata": {
    "collapsed": false
   },
   "outputs": [],
   "source": [
    "%%csd crossfm\n",
    "<CsoundSynthesizer>\n",
    "\n",
    "<CsOptions>\n",
    "  -d -o dac\n",
    "</CsOptions>\n",
    "\n",
    "<CsInstruments>\n",
    "sr     = 48000\n",
    "ksmps  = 100\n",
    "nchnls = 2\n",
    "0dbfs  = 1\n",
    "\n",
    "          instr 1\n",
    "idur       =          p3 \n",
    "iamp       =          p4 \n",
    "ifrq1      =          p5 \n",
    "ifrq2      =          p6 \n",
    "indx1      =          p7 \n",
    "indx2      =          p8 \n",
    "kenv       linen      iamp, 0.05, idur, 0.2 \n",
    "a1, a2     crossfm    ifrq1, ifrq2, indx1, indx2, 1, 1, 1 \n",
    "           outs       a1*kenv, a2*kenv \n",
    "          endin\n",
    "\n",
    "          instr 2\n",
    "kx         init       0.0 \n",
    "kdx        init       0.1 \n",
    "kdur       init       p4 \n",
    "kamp       init       p5 \n",
    "kndx       init       0 \n",
    "kmax       init       p6 \n",
    "kfq1       init       440.0 \n",
    "kfq2       init       557.0 \n",
    "knx1       init       3.5 \n",
    "knx2       init       4.8 \n",
    "           event      \"i\", 1, kx, kdur, kamp, kfq1, kfq2, knx1, knx2 \n",
    "kx         =          kx + kdx \n",
    "knx1       =          knx1 - 0.025 \n",
    "knx2       =          knx2 - 0.075 \n",
    "kndx       =          kndx + 1 \n",
    "if (kndx <= kmax) kgoto nextone\n",
    "           turnoff \n",
    "nextone: \n",
    "          endin\n",
    "</CsInstruments>\n",
    "\n",
    "<CsScore>\n",
    "f 1 0 16384 10 1 0\n",
    "\n",
    ";f 0 3600\n",
    "\n",
    "i 2 0 2 0.67 0.03 150\n",
    "i 1 15.1 1.5 0.025 440 557 -0.25 -6.45 0.05 1.2\n",
    "e\n",
    "</CsScore>\n",
    "</CsoundSynthesizer>"
   ]
  },
  {
   "cell_type": "markdown",
   "metadata": {},
   "source": [
    "The csd can then be used in the Python code:"
   ]
  },
  {
   "cell_type": "code",
   "execution_count": 3,
   "metadata": {
    "collapsed": false
   },
   "outputs": [
    {
     "name": "stdout",
     "output_type": "stream",
     "text": [
      "<CsoundSynthesizer>\n",
      "\n",
      "<CsOptions>\n",
      "  -d -o dac\n",
      "</CsOptions>\n",
      "\n",
      "<CsInstruments>\n",
      "sr     = 48000\n",
      "ksmps  = 100\n",
      "nchnls = 2\n",
      "0dbfs  = 1\n",
      "\n",
      "          instr 1\n",
      "idur       =          p3 \n",
      "iamp       =          p4 \n",
      "ifrq1      =          p5 \n",
      "ifrq2      =          p6 \n",
      "indx1      =          p7 \n",
      "indx2      =          p8 \n",
      "kenv       linen      iamp, 0.05, idur, 0.2 \n",
      "a1, a2     crossfm    ifrq1, ifrq2, indx1, indx2, 1, 1, 1 \n",
      "           outs       a1*kenv, a2*kenv \n",
      "          endin\n",
      "\n",
      "          instr 2\n",
      "kx         init       0.0 \n",
      "kdx        init       0.1 \n",
      "kdur       init       p4 \n",
      "kamp       init       p5 \n",
      "kndx       init       0 \n",
      "kmax       init       p6 \n",
      "kfq1       init       440.0 \n",
      "kfq2       init       557.0 \n",
      "knx1       init       3.5 \n",
      "knx2       init       4.8 \n",
      "           event      \"i\", 1, kx, kdur, kamp, kfq1, kfq2, knx1, knx2 \n",
      "kx         =          kx + kdx \n",
      "knx1       =          knx1 - 0.025 \n",
      "knx2       =          knx2 - 0.075 \n",
      "kndx       =          kndx + 1 \n",
      "if (kndx <= kmax) kgoto nextone\n",
      "           turnoff \n",
      "nextone: \n",
      "          endin\n",
      "</CsInstruments>\n",
      "\n",
      "<CsScore>\n",
      "f 1 0 16384 10 1 0\n",
      "\n",
      ";f 0 3600\n",
      "\n",
      "i 2 0 2 0.67 0.03 150\n",
      "i 1 15.1 1.5 0.025 440 557 -0.25 -6.45 0.05 1.2\n",
      "e\n",
      "</CsScore>\n",
      "</CsoundSynthesizer>\n"
     ]
    }
   ],
   "source": [
    "print(__csd['crossfm'])"
   ]
  },
  {
   "cell_type": "markdown",
   "metadata": {},
   "source": [
    "The *runCsd* function plays the csd:"
   ]
  },
  {
   "cell_type": "code",
   "execution_count": 4,
   "metadata": {
    "collapsed": false
   },
   "outputs": [
    {
     "data": {
      "text/plain": [
       "'OK'"
      ]
     },
     "execution_count": 4,
     "metadata": {},
     "output_type": "execute_result"
    }
   ],
   "source": [
    "runCsd('crossfm')"
   ]
  },
  {
   "cell_type": "markdown",
   "metadata": {},
   "source": [
    "The csound engine used by *runCsd* and *runOrcSco* is bound to slot#0. It can be released with the following command:"
   ]
  },
  {
   "cell_type": "code",
   "execution_count": 5,
   "metadata": {
    "collapsed": false
   },
   "outputs": [
    {
     "name": "stdout",
     "output_type": "stream",
     "text": [
      "Erasing slot#: 0\n"
     ]
    }
   ],
   "source": [
    "%csound 0"
   ]
  },
  {
   "cell_type": "markdown",
   "metadata": {},
   "source": [
    "The ```%%orc``` and the ```%%sco``` magics allow the user to enter respectively a named orchestra and a named score in the user namespace:"
   ]
  },
  {
   "cell_type": "code",
   "execution_count": 6,
   "metadata": {
    "collapsed": false
   },
   "outputs": [],
   "source": [
    "%%orc 02_43_1\n",
    "; ************************************************************************\n",
    "; ACCCI:      02_43_1.ORC\n",
    "; timbre:     tibetan chant\n",
    "; synthesis:  additive same units(02)\n",
    ";             basic instrument with minimal differences in frequency(43)\n",
    ";             arpeggio instrument by Risset\n",
    "; source:     Phase6, Lorrain(1980); Boulanger(1990): risset1.orc\n",
    "; coded:      jpg 9/93\n",
    "\n",
    "sr = 44100\n",
    "kr  =  441\n",
    "ksmps= 100\n",
    "nchnls = 2\n",
    "\n",
    "instr 1; *****************************************************************\n",
    "idur  = p3\n",
    "iamp  = p4/9\n",
    "ifq   = p5\n",
    "ioff1 = p6\n",
    "ioff2 = 2*p6\n",
    "ioff3 = 3*p6\n",
    "ioff4 = 4*p6\n",
    "irise = p7\n",
    "idec  = p8\n",
    "\n",
    "   ae  linen   iamp,irise,idur,idec   \n",
    "   a1  oscili  ae, ifq, 1\n",
    "   a2  oscili  ae, ifq+ioff1, 1  ; nine oscillators with the same ae\n",
    "   a3  oscili  ae, ifq+ioff2, 1  ; and waveform, but slightly different\n",
    "   a4  oscili  ae, ifq+ioff3, 1  ; frequencies create harmonic arpeggio \n",
    "   a5  oscili  ae, ifq+ioff4, 1\n",
    "   a6  oscili  ae, ifq-ioff1, 1\n",
    "   a7  oscili  ae, ifq-ioff2, 1\n",
    "   a8  oscili  ae, ifq-ioff3, 1\n",
    "   a9  oscili  ae, ifq-ioff4, 1\n",
    "       outs1   a1+a2+a3+a4+a5+a6+a7+a8+a9\n",
    "\n",
    "endin\n",
    "\n",
    "\n",
    "instr 2; *****************************************************************\n",
    "idur  = p3\n",
    "iamp  = p4/9\n",
    "ifq   = p5\n",
    "ioff1 = p6\n",
    "ioff2 = 2*p6\n",
    "ioff3 = 3*p6\n",
    "ioff4 = 4*p6\n",
    "irise = p7\n",
    "idec  = p8\n",
    "\n",
    "   ae  linen   iamp,irise,idur,idec   \n",
    "   a1  oscili  ae, ifq, 1\n",
    "   a2  oscili  ae, ifq+ioff1, 1  ; nine oscillators with the same ae\n",
    "   a3  oscili  ae, ifq+ioff2, 1  ; and waveform, but slightly different\n",
    "   a4  oscili  ae, ifq+ioff3, 1  ; frequencies create harmonic arpeggio\n",
    "   a5  oscili  ae, ifq+ioff4, 1\n",
    "   a6  oscili  ae, ifq-ioff1, 1\n",
    "   a7  oscili  ae, ifq-ioff2, 1\n",
    "   a8  oscili  ae, ifq-ioff3, 1\n",
    "   a9  oscili  ae, ifq-ioff4, 1\n",
    "       outs2   a1+a2+a3+a4+a5+a6+a7+a8+a9\n",
    "endin"
   ]
  },
  {
   "cell_type": "code",
   "execution_count": 7,
   "metadata": {
    "collapsed": true
   },
   "outputs": [],
   "source": [
    "%%sco 02_43_1\n",
    "; ************************************************************************\n",
    "; ACCCI:      02_43_1.SCO\n",
    "; coded:      jpg 9/93\n",
    "\n",
    "\n",
    "; GEN functions **********************************************************\n",
    "\n",
    "; carrier\n",
    "f1 0 1024 10 .3 0 0 0 .1 .1 .1 .1 .1 .1\n",
    "\n",
    "\n",
    "; score ******************************************************************\n",
    "\n",
    ";    start   idur  iamp   ifq     ioff   irise   idec\n",
    "i1     0      35   8000   110     .03     .07     21     ; 1st envelope\n",
    "i2     5      20   9600    55     .02     .04     12     ;\n",
    "i2    20      15   8000   220     .05      1.5    3      ;\n",
    "i1    20      20   9600   110     .04      2      4      ;\n",
    "i1    28      30   8000   220     .04      3      6      ;  2nd env.\n",
    "i2    32      26   9600   110     .025     2.6    5.2    ;\n",
    "i1    32.1    23   8000   110     .03      2.3    4.6    ;\n",
    "i2    36      22   8000    55     .01     .04     13     ; 1st envelope\n",
    "e"
   ]
  },
  {
   "cell_type": "markdown",
   "metadata": {},
   "source": [
    "These orchestra and score can be used in python with the following code:\n",
    "\n",
    "```\n",
    "__orc['02_43_1']\n",
    "__sco['02_43_1']\n",
    "```\n",
    "\n",
    "The *runOrcSco* function plays a given orchestra and score which are registered in the user namespace. If the csound engine in slot#0 had been released, it will be automatically recreated:"
   ]
  },
  {
   "cell_type": "code",
   "execution_count": 8,
   "metadata": {
    "collapsed": false
   },
   "outputs": [
    {
     "data": {
      "text/plain": [
       "'OK'"
      ]
     },
     "execution_count": 8,
     "metadata": {},
     "output_type": "execute_result"
    }
   ],
   "source": [
    "runOrcSco('02_43_1', '02_43_1')"
   ]
  },
  {
   "cell_type": "markdown",
   "metadata": {
    "collapsed": true
   },
   "source": [
    "### Csound Code Syntax Highlighting in Markdown Cells\n",
    "The csd, orchestra, and score entered with the magics ```%%csd```, ```%%orc```, and ```%%sco``` in the code cells above were syntax highlighted, thanks to the *csound.js* installed in the codemirror editor of Jupyter.\n",
    "This can be used in markdown cells as well. To activate syntax highlighting of Csound code in a markdown cell, one have to insert this line above the csound code block:\n",
    "<pre>```csound</pre>  \n",
    "and then add that line below the code block:  \n",
    "<pre>```</pre>\n",
    "\n",
    "This works with csd's:\n",
    "```csound\n",
    "<CsoundSynthesizer>\n",
    "<CsOptions>\n",
    "; Select audio/midi flags here according to platform\n",
    "-odac     ;;;realtime audio out\n",
    ";-iadc    ;;;uncomment -iadc if realtime audio input is needed too\n",
    "; For Non-realtime ouput leave only the line below:\n",
    "; -o oscil.wav -W ;;; for file output any platform\n",
    "</CsOptions>\n",
    "<CsInstruments>\n",
    "\n",
    "sr = 44100\n",
    "ksmps = 32\n",
    "nchnls = 2\n",
    "0dbfs  = 1\n",
    "\n",
    "instr 1\n",
    "\n",
    "kamp = .6\n",
    "kcps = 440\n",
    "ifn  = p4\n",
    "\n",
    "asig oscil kamp, kcps, ifn\n",
    "     outs asig,asig\n",
    "\n",
    "endin\n",
    "</CsInstruments>\n",
    "<CsScore>\n",
    "f1 0 16384 10 1                                          ; Sine\n",
    "f2 0 16384 10 1 0.5 0.3 0.25 0.2 0.167 0.14 0.125 .111   ; Sawtooth\n",
    "f3 0 16384 10 1 0   0.3 0    0.2 0     0.14 0     .111   ; Square\n",
    "f4 0 16384 10 1 1   1   1    0.7 0.5   0.3  0.1          ; Pulse\n",
    "\n",
    "i 1 0 2 1\n",
    "i 1 3 2 2\n",
    "i 1 6 2 3\n",
    "i 1 9 2 4\n",
    "\n",
    "e\n",
    "</CsScore>\n",
    "</CsoundSynthesizer>\n",
    "```\n",
    "\n",
    "with orchestra:\n",
    "```csound\n",
    "sr = 44100\n",
    "ksmps = 32\n",
    "nchnls = 2\n",
    "0dbfs  = 1\n",
    "\n",
    "instr 1\n",
    "\n",
    "kamp = .6\n",
    "kcps = 440\n",
    "ifn  = p4\n",
    "\n",
    "asig oscil kamp, kcps, ifn\n",
    "     outs asig,asig\n",
    "\n",
    "endin\n",
    "```\n",
    "\n",
    "and with scores:\n",
    "```csound\n",
    "f1 0 16384 10 1                                          ; Sine\n",
    "f2 0 16384 10 1 0.5 0.3 0.25 0.2 0.167 0.14 0.125 .111   ; Sawtooth\n",
    "f3 0 16384 10 1 0   0.3 0    0.2 0     0.14 0     .111   ; Square\n",
    "f4 0 16384 10 1 1   1   1    0.7 0.5   0.3  0.1          ; Pulse\n",
    "\n",
    "i 1 0 2 1\n",
    "i 1 3 2 2\n",
    "i 1 6 2 3\n",
    "i 1 9 2 4\n",
    "\n",
    "e\n",
    "```"
   ]
  },
  {
   "cell_type": "code",
   "execution_count": null,
   "metadata": {
    "collapsed": true
   },
   "outputs": [],
   "source": []
  }
 ],
 "metadata": {
  "kernelspec": {
   "display_name": "Python 3",
   "language": "python",
   "name": "python3"
  },
  "language_info": {
   "codemirror_mode": {
    "name": "ipython",
    "version": 3
   },
   "file_extension": ".py",
   "mimetype": "text/x-python",
   "name": "python",
   "nbconvert_exporter": "python",
   "pygments_lexer": "ipython3",
   "version": "3.5.1"
  }
 },
 "nbformat": 4,
 "nbformat_minor": 0
}
