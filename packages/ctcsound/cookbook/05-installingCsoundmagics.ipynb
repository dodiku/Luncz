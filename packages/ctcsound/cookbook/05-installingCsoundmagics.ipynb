{
 "cells": [
  {
   "cell_type": "markdown",
   "metadata": {},
   "source": [
    "## Installing CsoundMagics\n",
    "This cookbook provides an extension for Csound in Jupyter which adds four magics commands, two functions, and one class to the IPython kernel. There is also a Codemirror mode for Csound code syntax highlighting.\n",
    "\n",
    "Download the csoundmagics directory on your system, and from this dir run the command:\n",
    "\n",
    "```\n",
    "python installCsoundmagics.py\n",
    "```\n",
    "\n",
    "This will copy the *csoundmagic* extension in the user's ipython dir, and copy the *csound.js* mode in the codemirror mode directory.\n",
    "\n",
    "See the 06-csoundmagics and 07-icsound notebooks for the use of this extension."
   ]
  },
  {
   "cell_type": "code",
   "execution_count": null,
   "metadata": {
    "collapsed": true
   },
   "outputs": [],
   "source": []
  }
 ],
 "metadata": {
  "kernelspec": {
   "display_name": "Python 3",
   "language": "python",
   "name": "python3"
  },
  "language_info": {
   "codemirror_mode": {
    "name": "ipython",
    "version": 3
   },
   "file_extension": ".py",
   "mimetype": "text/x-python",
   "name": "python",
   "nbconvert_exporter": "python",
   "pygments_lexer": "ipython3",
   "version": "3.5.1"
  }
 },
 "nbformat": 4,
 "nbformat_minor": 0
}
