{
 "cells": [
  {
   "cell_type": "markdown",
   "metadata": {},
   "source": [
    "## The ctcsound Module\n",
    "The Csound API is a set of C functions and C++ classes that expose to hosts programs the functionalities of Csound.\n",
    "\n",
    "**ctcsound** is a python module wrapping the access to the Csound API using two Python classes: *Csound* and *CsoundPerformanceThread*. **ctcsound** uses the **ctypes** python module which is an FFI (Foreign Function Interface) allowing Python to access C shared libraries. **ctcsound** is written in pure Python and it can be used with Python 2 and 3. **ctcsound** depends on the **numpy** Python module, and it needs Csound version 6.07 or higher.\n",
    "\n",
    "Our session begins by importing the **ctcsound** module:"
   ]
  },
  {
   "cell_type": "code",
   "execution_count": 1,
   "metadata": {
    "collapsed": true
   },
   "outputs": [],
   "source": [
    "import ctcsound"
   ]
  },
  {
   "cell_type": "markdown",
   "metadata": {},
   "source": [
    "## Csound Instance\n",
    "Let's create a Csound instance which is embedded in a ctcsound.Csound() object."
   ]
  },
  {
   "cell_type": "code",
   "execution_count": 2,
   "metadata": {
    "collapsed": true
   },
   "outputs": [],
   "source": [
    "cs = ctcsound.Csound()"
   ]
  },
  {
   "cell_type": "markdown",
   "metadata": {},
   "source": [
    "Csound outputs something like this in the console:\n",
    "```\n",
    "virtual_keyboard real time MIDI plugin for Csound\n",
    "0dBFS level = 32768.0\n",
    "Csound version 6.07 (double samples) Mar  8 2016\n",
    "libsndfile-1.0.25\n",
    "```\n",
    "Most of the functions in the API are called with an opaque pointer to a csound instance as first argument. In **ctcsound** this mechanism has been integrated in the ```ctcsound.Csound``` Python class. Those API functions are then wrapped in methods of the class, the opaque pointer being added implicitly.\n",
    "\n",
    "The C functions of the API are called with names beginning with *csound*. In the *ctcsound.Csound* class, the *csound* prefix and the first argument are omitted. For example: ```csoundCompileCsdText(CSOUND *csound, const char *txt)``` becomes ```cs.compileCsdText(txt)```.\n",
    "\n",
    "The modern naming conventions for getter and setter are applied. This means that the get verb is omitted. So ```csoundGetSr(CSOUND *)``` becomes ```cs.sr()```.\n",
    "\n",
    "If we need to read directly the opaque pointer to the Csound instance, we can get it from the *csound()* method of our object: ```cs.csound()```\n",
    "\n",
    "Let's get some general information:"
   ]
  },
  {
   "cell_type": "code",
   "execution_count": 3,
   "metadata": {
    "collapsed": false
   },
   "outputs": [
    {
     "name": "stdout",
     "output_type": "stream",
     "text": [
      "Raw version values: 6070, 301\n",
      "Csound version: 6.07.0\n",
      "API version: 3.01\n",
      "Sample size: 8\n",
      "Value of the opaque pointer: 43193232\n"
     ]
    }
   ],
   "source": [
    "# Get version numbers\n",
    "v, va = cs.version(), cs.APIVersion()\n",
    "print(\"Raw version values: {}, {}\".format(v, va))\n",
    "\n",
    "# Format version numbers\n",
    "major, v = int(v/1000), v%1000\n",
    "minor, patch = int(v/10), v%10\n",
    "print('Csound version: {0}.{1:02d}.{2}'.format(major, minor, patch))\n",
    "major, minor = int(va/100), va%100\n",
    "print('API version: {0}.{1:02}'.format(major, minor))\n",
    "\n",
    "# Get sample size\n",
    "sampleSize = cs.sizeOfMYFLT()\n",
    "print('Sample size: {}'.format(sampleSize))\n",
    "\n",
    "# Show the value of the pointer to the Csound instance\n",
    "print(\"Value of the opaque pointer: {}\".format(cs.csound()))"
   ]
  },
  {
   "cell_type": "markdown",
   "metadata": {
    "collapsed": true
   },
   "source": [
    "When we're done with our session, the Python garbage collector will destroy our cs object, and this destruction will implicitly cause the end of the Csound instance. We can explicitly see what is happening by deleting ourself the Python object:"
   ]
  },
  {
   "cell_type": "code",
   "execution_count": 4,
   "metadata": {
    "collapsed": false
   },
   "outputs": [],
   "source": [
    "del cs"
   ]
  },
  {
   "cell_type": "markdown",
   "metadata": {},
   "source": [
    "Csound outputs something like this in the console:\n",
    "```\n",
    "end of score.\t\t   overall amps:      0.0\n",
    "\t   overall samples out of range:        0\n",
    "0 errors in performance\n",
    "Elapsed time at end of performance: real: 5.899s, CPU: 0.008s\n",
    "```"
   ]
  }
 ],
 "metadata": {
  "kernelspec": {
   "display_name": "Python 3",
   "language": "python",
   "name": "python3"
  },
  "language_info": {
   "codemirror_mode": {
    "name": "ipython",
    "version": 3
   },
   "file_extension": ".py",
   "mimetype": "text/x-python",
   "name": "python",
   "nbconvert_exporter": "python",
   "pygments_lexer": "ipython3",
   "version": "3.5.1"
  }
 },
 "nbformat": 4,
 "nbformat_minor": 0
}
